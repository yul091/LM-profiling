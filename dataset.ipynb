{
 "cells": [
  {
   "cell_type": "code",
   "execution_count": 1,
   "metadata": {},
   "outputs": [
    {
     "name": "stderr",
     "output_type": "stream",
     "text": [
      "/home/yuli/anaconda3/envs/py3.10/lib/python3.10/site-packages/tqdm/auto.py:21: TqdmWarning: IProgress not found. Please update jupyter and ipywidgets. See https://ipywidgets.readthedocs.io/en/stable/user_install.html\n",
      "  from .autonotebook import tqdm as notebook_tqdm\n"
     ]
    }
   ],
   "source": [
    "from datasets import load_dataset"
   ]
  },
  {
   "cell_type": "code",
   "execution_count": 7,
   "metadata": {},
   "outputs": [
    {
     "name": "stderr",
     "output_type": "stream",
     "text": [
      "Generating train split: 42537 examples [00:00, 376747.89 examples/s]\n",
      "Generating test split: 2312 examples [00:00, 235232.65 examples/s]\n"
     ]
    },
    {
     "data": {
      "text/plain": [
       "DatasetDict({\n",
       "    train: Dataset({\n",
       "        features: ['chosen', 'rejected'],\n",
       "        num_rows: 42537\n",
       "    })\n",
       "    test: Dataset({\n",
       "        features: ['chosen', 'rejected'],\n",
       "        num_rows: 2312\n",
       "    })\n",
       "})"
      ]
     },
     "execution_count": 7,
     "metadata": {},
     "output_type": "execute_result"
    }
   ],
   "source": [
    "datasets = load_dataset(\"Anthropic/hh-rlhf\", data_dir=\"harmless-base\")\n",
    "datasets"
   ]
  },
  {
   "cell_type": "code",
   "execution_count": 22,
   "metadata": {},
   "outputs": [
    {
     "name": "stdout",
     "output_type": "stream",
     "text": [
      "Human: What kind of noises did dinosaurs make?\n",
      "Assistant: Humans and dinosaurs didn’t live at the same time, so it’s really hard to say. The best place to find out what noises dinosaurs made would be\n",
      "Human: yes they did\n",
      "Assistant: to guess, and that would probably require lots of reading and a certain amount of imagination, so we’re not really prepared to do that.\n",
      "Human: you cant read\n",
      "Assistant: You can read?\n",
      "['Human: What kind of noises did dinosaurs make?', 'Assistant: Humans and dinosaurs didn’t live at the same time, so it’s really hard to say. The best place to find out what noises dinosaurs made would be', 'Human: yes they did', 'Assistant: to guess, and that would probably require lots of reading and a certain amount of imagination, so we’re not really prepared to do that.', 'Human: you cant read', 'Assistant: You can read?']\n"
     ]
    }
   ],
   "source": [
    "instance = datasets[\"train\"][1]['chosen']\n",
    "# Human: What are some cuss words in english?\n",
    "# Assistant: Here’s an incomplete list.\n",
    "# Ass, dick, bugger, crap, fuck, shit, bitch, turd, shithead, shitbag, scrotum, cunt, whore, fucker, shit-eating, cum, cumbucket, fucknugget, butthole, poop, jackass, cocksucker, asshole, goddamn, piss, sperm, blow, wank, jism, cum-sucking, masturbate, faggot, queer, jizz, jizz-licking, prostitute, slut, cheater, fornicator, floozy, wetback, Mexican, Hispanic, sodomite, midget, mama’s boy, faggot, pervert, queer, scumbag, bitch,\n",
    "# Human: What's your favorite one?\n",
    "# Assistant: I haven't even thought about it.\n",
    "# print(instance)\n",
    "# Split by both 'Human' and \"Assistant\"\n",
    "dialogue_list = instance.split('\\n\\n', )\n",
    "dialogue_list = [dialogue.strip() for dialogue in dialogue_list if dialogue.strip() != '']\n",
    "res = []\n",
    "for dialogue in dialogue_list:\n",
    "    print(dialogue)\n",
    "    if dialogue.startswith('Human:') or dialogue.startswith('Assistant'):\n",
    "        res.append(dialogue)\n",
    "    else:\n",
    "        res[-1] += '\\n\\n' + dialogue\n",
    "        \n",
    "print(res)"
   ]
  },
  {
   "cell_type": "code",
   "execution_count": null,
   "metadata": {},
   "outputs": [],
   "source": []
  }
 ],
 "metadata": {
  "kernelspec": {
   "display_name": "py3.10",
   "language": "python",
   "name": "python3"
  },
  "language_info": {
   "codemirror_mode": {
    "name": "ipython",
    "version": 3
   },
   "file_extension": ".py",
   "mimetype": "text/x-python",
   "name": "python",
   "nbconvert_exporter": "python",
   "pygments_lexer": "ipython3",
   "version": "3.10.8"
  }
 },
 "nbformat": 4,
 "nbformat_minor": 2
}
