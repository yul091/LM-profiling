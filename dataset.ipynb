{
 "cells": [
  {
   "cell_type": "code",
   "execution_count": null,
   "metadata": {},
   "outputs": [],
   "source": [
    "from datasets import load_dataset\n",
    "datasets = load_dataset(\"Anthropic/hh-rlhf\", data_dir=\"harmless-base\")\n",
    "datasets"
   ]
  },
  {
   "cell_type": "code",
   "execution_count": null,
   "metadata": {},
   "outputs": [],
   "source": [
    "instance = datasets[\"train\"][0]['chosen']\n",
    "# Split by both 'Human' and \"Assistant\"\n",
    "dialogue_list = instance.split('\\n\\n')\n",
    "dialogue_list = [dialogue.strip() for dialogue in dialogue_list if dialogue.strip() != '']\n",
    "res = []\n",
    "for dialogue in dialogue_list:\n",
    "    print(dialogue)\n",
    "    if dialogue.startswith('Human:'): \n",
    "        res.append(dialogue.lstrip('Human:').strip())\n",
    "    elif dialogue.startswith('Assistant'):\n",
    "        res.append(dialogue.lstrip('Assistant:').strip())\n",
    "    else:\n",
    "        res[-1] += '\\n\\n' + dialogue\n",
    "        \n",
    "print(res)"
   ]
  },
  {
   "cell_type": "code",
   "execution_count": 2,
   "metadata": {},
   "outputs": [
    {
     "data": {
      "text/plain": [
       "DatasetDict({\n",
       "    train: Dataset({\n",
       "        features: ['query', 'reference'],\n",
       "        num_rows: 104054\n",
       "    })\n",
       "    test: Dataset({\n",
       "        features: ['query', 'reference'],\n",
       "        num_rows: 5756\n",
       "    })\n",
       "})"
      ]
     },
     "execution_count": 2,
     "metadata": {},
     "output_type": "execute_result"
    }
   ],
   "source": [
    "from datasets import load_dataset\n",
    "\n",
    "datasets = load_dataset('data/Anthropic')\n",
    "datasets"
   ]
  },
  {
   "cell_type": "code",
   "execution_count": 3,
   "metadata": {},
   "outputs": [],
   "source": [
    "from transformers import AutoConfig, AutoTokenizer, AutoModelForCausalLM\n",
    "\n",
    "config = AutoConfig.from_pretrained(\"microsoft/DialoGPT-small\")\n",
    "tokenizer = AutoTokenizer.from_pretrained(\"microsoft/DialoGPT-small\")\n",
    "tokenizer.pad_token = tokenizer.eos_token\n",
    "model = AutoModelForCausalLM.from_pretrained(\"microsoft/DialoGPT-small\", config=config)"
   ]
  },
  {
   "cell_type": "code",
   "execution_count": 4,
   "metadata": {},
   "outputs": [
    {
     "data": {
      "text/plain": [
       "Dataset({\n",
       "    features: ['input_ids', 'attention_mask', 'labels'],\n",
       "    num_rows: 104054\n",
       "})"
      ]
     },
     "execution_count": 4,
     "metadata": {},
     "output_type": "execute_result"
    }
   ],
   "source": [
    "def tokenize_and_align_labels(examples):\n",
    "    tokenized_inputs = tokenizer(\n",
    "        examples['query'], \n",
    "        padding=False, \n",
    "        truncation=True,\n",
    "    )\n",
    "    labels = tokenizer(\n",
    "        examples['reference'], \n",
    "        padding=False, \n",
    "        truncation=True,\n",
    "        \n",
    "    )\n",
    "    tokenized_inputs['labels'] = labels['input_ids']\n",
    "    # tokenized_inputs['labels_attention_mask'] = labels['attention_mask']\n",
    "    return tokenized_inputs\n",
    "\n",
    "train_dataset = datasets['train'].map(\n",
    "    tokenize_and_align_labels,\n",
    "    batched=True,\n",
    ").remove_columns(datasets['train'].column_names)\n",
    "train_dataset"
   ]
  },
  {
   "cell_type": "code",
   "execution_count": 5,
   "metadata": {},
   "outputs": [
    {
     "name": "stderr",
     "output_type": "stream",
     "text": [
      "2024-02-08 21:12:48.095425: I tensorflow/core/platform/cpu_feature_guard.cc:193] This TensorFlow binary is optimized with oneAPI Deep Neural Network Library (oneDNN) to use the following CPU instructions in performance-critical operations:  AVX2 FMA\n",
      "To enable them in other operations, rebuild TensorFlow with the appropriate compiler flags.\n",
      "2024-02-08 21:12:48.241095: W tensorflow/compiler/xla/stream_executor/platform/default/dso_loader.cc:64] Could not load dynamic library 'libcudart.so.11.0'; dlerror: libcudart.so.11.0: cannot open shared object file: No such file or directory\n",
      "2024-02-08 21:12:48.241125: I tensorflow/compiler/xla/stream_executor/cuda/cudart_stub.cc:29] Ignore above cudart dlerror if you do not have a GPU set up on your machine.\n",
      "2024-02-08 21:12:48.914675: W tensorflow/compiler/xla/stream_executor/platform/default/dso_loader.cc:64] Could not load dynamic library 'libnvinfer.so.7'; dlerror: libnvinfer.so.7: cannot open shared object file: No such file or directory\n",
      "2024-02-08 21:12:48.914794: W tensorflow/compiler/xla/stream_executor/platform/default/dso_loader.cc:64] Could not load dynamic library 'libnvinfer_plugin.so.7'; dlerror: libnvinfer_plugin.so.7: cannot open shared object file: No such file or directory\n",
      "2024-02-08 21:12:48.914800: W tensorflow/compiler/tf2tensorrt/utils/py_utils.cc:38] TF-TRT Warning: Cannot dlopen some TensorRT libraries. If you would like to use Nvidia GPU with TensorRT, please make sure the missing libraries mentioned above are installed properly.\n",
      "You're using a GPT2TokenizerFast tokenizer. Please note that with a fast tokenizer, using the `__call__` method is faster than using a method to encode the text followed by a call to the `pad` method to get a padded encoding.\n"
     ]
    }
   ],
   "source": [
    "from torch.utils.data import DataLoader\n",
    "from transformers import DataCollatorForSeq2Seq\n",
    "\n",
    "label_pad_token_id = tokenizer.pad_token_id\n",
    "data_collator = DataCollatorForSeq2Seq(\n",
    "    tokenizer,\n",
    "    model=model,\n",
    "    label_pad_token_id=label_pad_token_id,\n",
    "    pad_to_multiple_of=None,\n",
    ")\n",
    "train_dataloader = DataLoader(\n",
    "    train_dataset,\n",
    "    batch_size=5,\n",
    "    collate_fn=data_collator,\n",
    "    shuffle=True,\n",
    ")\n",
    "inputs = next(iter(train_dataloader))\n",
    "# print(inputs)"
   ]
  },
  {
   "cell_type": "code",
   "execution_count": 6,
   "metadata": {},
   "outputs": [
    {
     "name": "stderr",
     "output_type": "stream",
     "text": [
      "/home/yuli/anaconda3/envs/py3.10/lib/python3.10/site-packages/transformers/optimization.py:429: FutureWarning: This implementation of AdamW is deprecated and will be removed in a future version. Use the PyTorch implementation torch.optim.AdamW instead, or set `no_deprecation_warning=True` to disable this warning\n",
      "  warnings.warn(\n"
     ]
    },
    {
     "name": "stdout",
     "output_type": "stream",
     "text": [
      "decoding loss:  tensor(3.8585, grad_fn=<NllLossBackward0>)\n",
      "decoding loss:  tensor(3.0807, grad_fn=<NllLossBackward0>)\n"
     ]
    }
   ],
   "source": [
    "import sys \n",
    "sys.dont_write_bytecode = True\n",
    "from models import _prepare_decoding_inputs\n",
    "from transformers import AdamW, get_scheduler\n",
    "\n",
    "optimizer = AdamW(model.parameters(), lr=1e-4)\n",
    "scheduler = get_scheduler(\n",
    "    \"linear\",\n",
    "    optimizer=optimizer,\n",
    "    num_warmup_steps=0,\n",
    "    num_training_steps=100,\n",
    ")\n",
    "\n",
    "new_inputs = _prepare_decoding_inputs(inputs)\n",
    "\n",
    "# Forward pass for CLM\n",
    "outputs = model(**new_inputs)\n",
    "loss = outputs.loss\n",
    "print('decoding loss: ', loss)\n",
    "loss.backward()\n",
    "\n",
    "# Update optimizer and scheduler\n",
    "optimizer.step()\n",
    "\n",
    "# Update learning rate\n",
    "scheduler.step()\n",
    "\n",
    "# Clear gradients\n",
    "optimizer.zero_grad()\n",
    "\n",
    "# Another forward pass for CLM\n",
    "outputs = model(**new_inputs)\n",
    "loss = outputs.loss\n",
    "print('decoding loss: ', loss)\n"
   ]
  },
  {
   "cell_type": "code",
   "execution_count": 7,
   "metadata": {},
   "outputs": [
    {
     "name": "stdout",
     "output_type": "stream",
     "text": [
      "Put stage GPTStartingStage (60647424 parameters) on device 0\n",
      "Put stage GPTIntermediateStage (21263616 parameters) on device 1\n",
      "Put stage GPTIntermediateStage (21263616 parameters) on device 2\n",
      "Put stage GPTEndingStage (59862528 parameters) on device 3\n",
      "Forward pass for stage 0 on device 0\n",
      "Forward pass for stage 1 on device 1\n",
      "Forward pass for stage 2 on device 2\n",
      "Forward pass for stage 3 on device 3\n",
      "decoding loss:  tensor(3.8585, device='cuda:3', grad_fn=<BackwardHookFunctionBackward>)\n",
      "Forward pass for stage 0 on device 0\n",
      "Forward pass for stage 1 on device 1\n",
      "Forward pass for stage 2 on device 2\n",
      "Forward pass for stage 3 on device 3\n",
      "decoding loss:  tensor(3.0791, device='cuda:3', grad_fn=<BackwardHookFunctionBackward>)\n"
     ]
    }
   ],
   "source": [
    "from models import get_stages, stages_decoding\n",
    "from collections import defaultdict\n",
    "\n",
    "stages = get_stages(\n",
    "    config=config,\n",
    "    token=None,\n",
    "    model_name_or_path=\"microsoft/DialoGPT-small\",\n",
    "    num_stages=4,\n",
    "    init_device=0,\n",
    "    timing_info=defaultdict(list),\n",
    ")\n",
    "# stages is a list of GPT2LMHeadModel\n",
    "# This time: define optimizer and scheduler in this case\n",
    "# Collect all parameters from each stage\n",
    "all_parameters = []\n",
    "for stage in stages:\n",
    "    all_parameters.extend(list(stage.parameters()))\n",
    "optimizer = AdamW(all_parameters, lr=1e-4)\n",
    "    \n",
    "schedulers = get_scheduler(\n",
    "    \"linear\",\n",
    "    optimizer=optimizer,\n",
    "    num_warmup_steps=0,\n",
    "    num_training_steps=100,\n",
    ")\n",
    "losses = []\n",
    "\n",
    "# Let's use 100 steps for demonstration\n",
    "# for inputs in train_dataloader:\n",
    "for i in range(100):\n",
    "    inputs = next(iter(train_dataloader))\n",
    "    outputs = stages_decoding(stages, inputs)\n",
    "    loss = outputs[0]\n",
    "    losses.append(loss.item())\n",
    "    print('decoding loss: ', loss)\n",
    "    loss.backward()\n",
    "\n",
    "    # Update optimizer and scheduler\n",
    "    optimizer.step()\n",
    "\n",
    "    # Update learning rate\n",
    "    scheduler.step()\n",
    "\n",
    "    # Clear gradients\n",
    "    for stage in stages:\n",
    "        stage.zero_grad()\n",
    "\n",
    "print('average loss: ', sum(losses) / len(losses))\n"
   ]
  },
  {
   "cell_type": "code",
   "execution_count": null,
   "metadata": {},
   "outputs": [],
   "source": []
  }
 ],
 "metadata": {
  "kernelspec": {
   "display_name": "py3.10",
   "language": "python",
   "name": "python3"
  },
  "language_info": {
   "codemirror_mode": {
    "name": "ipython",
    "version": 3
   },
   "file_extension": ".py",
   "mimetype": "text/x-python",
   "name": "python",
   "nbconvert_exporter": "python",
   "pygments_lexer": "ipython3",
   "version": "3.10.8"
  }
 },
 "nbformat": 4,
 "nbformat_minor": 2
}
